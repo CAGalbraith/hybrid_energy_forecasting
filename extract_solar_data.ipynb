{
 "cells": [
  {
   "cell_type": "code",
   "execution_count": null,
   "metadata": {},
   "outputs": [],
   "source": [
    "import pandas as pd\n",
    "import xarray as xr\n",
    "import numpy as np\n",
    "import geopandas as gpd\n",
    "import matplotlib.pyplot as plt\n",
    "from matplotlib.patches import Rectangle\n",
    "from shapely.geometry import Point"
   ]
  },
  {
   "cell_type": "code",
   "execution_count": null,
   "metadata": {},
   "outputs": [],
   "source": [
    "def get_variable_from_netcfd(df, lon, lat, var):\n",
    "    \"\"\"Extract variable from netcdf file and interpolate to 30 min intervals\"\"\"\n",
    "    return (\n",
    "        df[var]\n",
    "        .sel(longitude=lon, latitude=lat, method=\"nearest\")\n",
    "        .to_dataframe()\n",
    "        .set_index(\"valid_time\")[[var]]\n",
    "        .resample(\"1800s\")\n",
    "        .interpolate()\n",
    "    )\n",
    "\n",
    "\n",
    "def get_ssrd_from_netcfd(df, lon, lat):\n",
    "    ssrd = get_variable_from_netcfd(df, lon, lat, \"ssrd\")\n",
    "    ssrd[\"radiation\"] = (ssrd[\"ssrd\"] - ssrd[\"ssrd\"].shift(1)).clip(lower=0)\n",
    "    ssrd[\"radiation\"] = ssrd[\"radiation\"].fillna(0)\n",
    "    return ssrd[[\"radiation\"]]"
   ]
  },
  {
   "cell_type": "code",
   "execution_count": null,
   "metadata": {},
   "outputs": [],
   "source": [
    "training = pd.read_csv(\"data/training_data.csv\")[[\"dtm\", \"solar_generation_MW\"]]\n",
    "training[\"valid_time\"] = pd.to_datetime(training[\"dtm\"])\n",
    "training = training.drop(columns=[\"dtm\"])"
   ]
  },
  {
   "cell_type": "code",
   "execution_count": null,
   "metadata": {},
   "outputs": [],
   "source": [
    "nwp = xr.load_dataset(\"data/hres_1day_south_scotland_202101_202306.nc\")"
   ]
  },
  {
   "cell_type": "code",
   "execution_count": null,
   "metadata": {},
   "outputs": [],
   "source": [
    "solar_variables = [\"t2m\", \"d2m\", \"lcc\", \"mcc\", \"hcc\", \"tp\"]"
   ]
  },
  {
   "cell_type": "code",
   "execution_count": null,
   "metadata": {},
   "outputs": [],
   "source": [
    "# Create range of 4 latitudes and 4 longitudes\n",
    "# from the maximum and minimum values of the NWP data\n",
    "\n",
    "lat_range = np.linspace(\n",
    "    nwp.latitude.values.tolist()[0], nwp.latitude.values.tolist()[-1], 4\n",
    ")\n",
    "lon_range = np.linspace(nwp.longitude.min(), nwp.longitude.max(), 4)"
   ]
  },
  {
   "cell_type": "code",
   "execution_count": null,
   "metadata": {},
   "outputs": [],
   "source": [
    "lat_range = nwp.latitude.values.tolist()\n",
    "lon_range = nwp.longitude.values.tolist()"
   ]
  },
  {
   "cell_type": "code",
   "execution_count": null,
   "metadata": {},
   "outputs": [],
   "source": [
    "scotland_gdf = gpd.read_file(\"lad.json\")"
   ]
  },
  {
   "cell_type": "code",
   "execution_count": null,
   "metadata": {},
   "outputs": [],
   "source": [
    "cross_array = np.array(np.meshgrid(lat_range, lon_range)).T.reshape(-1, 2)\n",
    "points = [Point(lon, lat) for lat, lon in cross_array]\n",
    "inside_points = [point for point in points if scotland_gdf.contains(point).any()]\n",
    "cross_array = np.array([[point.y, point.x] for point in inside_points])"
   ]
  },
  {
   "cell_type": "code",
   "execution_count": null,
   "metadata": {},
   "outputs": [],
   "source": [
    "ssrd = pd.DataFrame()\n",
    "\n",
    "for lat, lon in cross_array:\n",
    "    weather = get_ssrd_from_netcfd(nwp, lon, lat)\n",
    "    weather[\"latitude\"] = round(lat, 1)\n",
    "    weather[\"longitude\"] = round(lon, 2)\n",
    "    ssrd = pd.concat([ssrd, weather])\n",
    "\n",
    "ssrd = ssrd.reset_index()\n",
    "ssrd[\"valid_time\"] = ssrd[\"valid_time\"].dt.tz_localize(\"UTC\")"
   ]
  },
  {
   "cell_type": "code",
   "execution_count": null,
   "metadata": {},
   "outputs": [],
   "source": [
    "training_radation = training.merge(ssrd)"
   ]
  },
  {
   "cell_type": "code",
   "execution_count": null,
   "metadata": {},
   "outputs": [],
   "source": [
    "correlations = (\n",
    "    pd.DataFrame(\n",
    "        training_radation.groupby(by=[\"latitude\", \"longitude\"])[\n",
    "            [\"solar_generation_MW\", \"radiation\"]\n",
    "        ]\n",
    "        .corr()\n",
    "        .iloc[0::2, -1]\n",
    "    )\n",
    "    .reset_index()\n",
    "    .drop(columns=[\"level_2\"])\n",
    ")"
   ]
  },
  {
   "cell_type": "code",
   "execution_count": null,
   "metadata": {},
   "outputs": [],
   "source": [
    "latitudes = nwp.latitude.values.tolist()\n",
    "longitudes = nwp.longitude.values.tolist()\n",
    "\n",
    "fig, ax = plt.subplots()\n",
    "\n",
    "scotland_gpd_df = gpd.read_file(\"lad.json\")\n",
    "scotland_plot = scotland_gpd_df.plot(ax=ax)\n",
    "scotland_plot.set_xlim(-8, -1.5)\n",
    "scotland_plot.set_ylim(54, 60)\n",
    "\n",
    "\n",
    "rect = Rectangle(\n",
    "    (nwp.longitude.min() - 0.05, nwp.latitude.min() - 0.05),\n",
    "    (nwp.longitude.max() - nwp.longitude.min()) + 0.1,\n",
    "    nwp.latitude.max() - nwp.latitude.min() + 0.1,\n",
    "    linewidth=1,\n",
    "    edgecolor=\"r\",\n",
    "    facecolor=\"none\",\n",
    ")\n",
    "\n",
    "scotland_plot.scatter(\n",
    "    correlations[\"longitude\"],\n",
    "    correlations[\"latitude\"],\n",
    "    c=correlations[\"radiation\"],\n",
    "    s=50,\n",
    "    cmap=\"coolwarm\",\n",
    ")\n",
    "\n",
    "\n",
    "fig.set_size_inches(10, 10)\n",
    "\n",
    "ax.set_ylim(54.5, 56.6)\n",
    "ax.set_xlim(-6, -1.8)\n",
    "\n",
    "ax.add_patch(rect)\n",
    "\n",
    "plt.show()"
   ]
  },
  {
   "cell_type": "code",
   "execution_count": null,
   "metadata": {},
   "outputs": [],
   "source": [
    "# ssrd = pd.DataFrame()\n",
    "\n",
    "# for lat, lon in cross_array:\n",
    "#     weather_feature_list = []\n",
    "#     for var in solar_variables:\n",
    "#         weather_feature_list.append(get_variable_from_netcfd(nwp, lon, lat, var))\n",
    "#     weather_feature_list.append(get_ssrd_from_netcfd(nwp, lon, lat))\n",
    "#     weather = pd.concat(weather_feature_list, axis=1)\n",
    "#     weather[\"latitude\"] = round(lat, 1)\n",
    "#     weather[\"longitude\"] = round(lon, 2)\n",
    "#     ssrd = pd.concat([ssrd, weather])"
   ]
  },
  {
   "cell_type": "code",
   "execution_count": null,
   "metadata": {},
   "outputs": [],
   "source": [
    "correlations['radiation'].plot(kind = 'hist', bins = 100)"
   ]
  },
  {
   "cell_type": "code",
   "execution_count": null,
   "metadata": {},
   "outputs": [],
   "source": [
    "solar_mean[\"days_since_start_of_year\"] = solar_mean[\"valid_time\"].dt.dayofyear\n",
    "solar_mean[\"hour\"] = solar_mean[\"valid_time\"].dt.hour"
   ]
  },
  {
   "cell_type": "code",
   "execution_count": null,
   "metadata": {},
   "outputs": [],
   "source": [
    "solar_mean[\"sin_days\"] = np.sin(\n",
    "    2 * np.pi * solar_mean[\"days_since_start_of_year\"] / 365\n",
    ")\n",
    "solar_mean[\"cos_days\"] = np.cos(\n",
    "    2 * np.pi * solar_mean[\"days_since_start_of_year\"] / 365\n",
    ")\n",
    "solar_mean[\"sin_hour\"] = np.sin(2 * np.pi * solar_mean[\"hour\"] / 24)\n",
    "solar_mean[\"cos_hour\"] = np.cos(2 * np.pi * solar_mean[\"hour\"] / 24)"
   ]
  },
  {
   "cell_type": "code",
   "execution_count": null,
   "metadata": {},
   "outputs": [],
   "source": [
    "solar_mean.merge()"
   ]
  },
  {
   "cell_type": "code",
   "execution_count": null,
   "metadata": {},
   "outputs": [],
   "source": [
    "for col in solar_variables:\n",
    "    "
   ]
  },
  {
   "cell_type": "code",
   "execution_count": null,
   "metadata": {},
   "outputs": [],
   "source": []
  }
 ],
 "metadata": {
  "kernelspec": {
   "display_name": "comp23",
   "language": "python",
   "name": "python3"
  },
  "language_info": {
   "codemirror_mode": {
    "name": "ipython",
    "version": 3
   },
   "file_extension": ".py",
   "mimetype": "text/x-python",
   "name": "python",
   "nbconvert_exporter": "python",
   "pygments_lexer": "ipython3",
   "version": "3.8.0"
  }
 },
 "nbformat": 4,
 "nbformat_minor": 2
}
