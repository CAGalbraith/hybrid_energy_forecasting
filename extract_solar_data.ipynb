{
 "cells": [
  {
   "cell_type": "code",
   "execution_count": null,
   "metadata": {},
   "outputs": [],
   "source": [
    "import pandas as pd\n",
    "import xarray as xr\n",
    "import numpy as np\n",
    "import geopandas as gpd\n",
    "import matplotlib.pyplot as plt\n",
    "from matplotlib.patches import Rectangle\n",
    "from shapely.geometry import Point\n",
    "import plotly.express as px"
   ]
  },
  {
   "cell_type": "code",
   "execution_count": null,
   "metadata": {},
   "outputs": [],
   "source": [
    "### Functions to extract data from netcdf files\n",
    "\n",
    "def get_variable_from_netcfd(df, lon, lat, var):\n",
    "    \"\"\"Extract variable from netcdf file and interpolate to 30 min intervals\"\"\"\n",
    "    return (\n",
    "        df[var]\n",
    "        .sel(longitude=lon, latitude=lat, method=\"nearest\")\n",
    "        .to_dataframe()\n",
    "        .set_index(\"valid_time\")[[var]]\n",
    "        .resample(\"1800s\")\n",
    "        .interpolate()\n",
    "    )\n",
    "\n",
    "\n",
    "def get_ssrd_from_netcfd(df, lon, lat):\n",
    "    _ssrd = get_variable_from_netcfd(df, lon, lat, \"ssrd\")\n",
    "    _ssrd[\"radiation\"] = (_ssrd[\"ssrd\"] - _ssrd[\"ssrd\"].shift(1)).clip(lower=0)\n",
    "    _ssrd[\"radiation\"] = _ssrd[\"radiation\"].fillna(0)\n",
    "    return _ssrd[[\"radiation\"]]"
   ]
  },
  {
   "cell_type": "code",
   "execution_count": null,
   "metadata": {},
   "outputs": [],
   "source": [
    "# Load training data\n",
    "\n",
    "training = pd.read_csv(\"data/training_data.csv\")[[\"dtm\", \"solar_generation_MW\"]]\n",
    "training[\"valid_time\"] = pd.to_datetime(training[\"dtm\"])\n",
    "training = training.drop(columns=[\"dtm\"])"
   ]
  },
  {
   "cell_type": "code",
   "execution_count": null,
   "metadata": {},
   "outputs": [],
   "source": [
    "# Load weather data\n",
    "\n",
    "nwp = xr.load_dataset(\"data/hres_1day_south_scotland_202101_202306.nc\")"
   ]
  },
  {
   "cell_type": "code",
   "execution_count": null,
   "metadata": {},
   "outputs": [],
   "source": [
    "solar_variables = [\"t2m\", \"d2m\", \"lcc\", \"mcc\", \"hcc\", \"tp\"]"
   ]
  },
  {
   "cell_type": "code",
   "execution_count": null,
   "metadata": {},
   "outputs": [],
   "source": [
    "# Create range of 4 latitudes and 4 longitudes\n",
    "# from the maximum and minimum values of the NWP data\n",
    "\n",
    "lat_range = np.linspace(\n",
    "    nwp.latitude.values.tolist()[0], nwp.latitude.values.tolist()[-1], 4\n",
    ")\n",
    "lon_range = np.linspace(nwp.longitude.min(), nwp.longitude.max(), 4)\n",
    "\n",
    "lat_range = nwp.latitude.values.tolist()\n",
    "lon_range = nwp.longitude.values.tolist()"
   ]
  },
  {
   "cell_type": "code",
   "execution_count": null,
   "metadata": {},
   "outputs": [],
   "source": [
    "scotland_gdf = gpd.read_file(\"lad.json\")"
   ]
  },
  {
   "cell_type": "code",
   "execution_count": null,
   "metadata": {},
   "outputs": [],
   "source": [
    "cross_array = np.array(np.meshgrid(lat_range, lon_range)).T.reshape(-1, 2)\n",
    "points = [Point(lon, lat) for lat, lon in cross_array]\n",
    "# Inside Merge\n",
    "inside_points = [point for point in points if scotland_gdf.contains(point).any()]\n",
    "inside_array = np.array([[point.y, point.x] for point in inside_points])"
   ]
  },
  {
   "cell_type": "code",
   "execution_count": null,
   "metadata": {},
   "outputs": [],
   "source": [
    "ssrd = pd.DataFrame()\n",
    "\n",
    "for lat, lon in inside_array:\n",
    "    weather = get_ssrd_from_netcfd(nwp, lon, lat)\n",
    "    weather[\"latitude\"] = round(lat, 1)\n",
    "    weather[\"longitude\"] = round(lon, 2)\n",
    "    ssrd = pd.concat([ssrd, weather])\n",
    "\n",
    "ssrd = ssrd.reset_index()\n",
    "ssrd[\"valid_time\"] = ssrd[\"valid_time\"].dt.tz_localize(\"UTC\")"
   ]
  },
  {
   "cell_type": "code",
   "execution_count": null,
   "metadata": {},
   "outputs": [],
   "source": [
    "training_radiation = training.merge(ssrd)"
   ]
  },
  {
   "cell_type": "code",
   "execution_count": null,
   "metadata": {},
   "outputs": [],
   "source": [
    "training_radiation.sample(1000).plot(x = 'radiation', y = 'solar_generation_MW', kind = 'scatter')"
   ]
  },
  {
   "cell_type": "code",
   "execution_count": null,
   "metadata": {},
   "outputs": [],
   "source": [
    "correlations = (\n",
    "    pd.DataFrame(\n",
    "        training_radiation.groupby(by=[\"latitude\", \"longitude\"])[\n",
    "            [\"solar_generation_MW\", \"radiation\"]\n",
    "        ]\n",
    "        .corr()\n",
    "        .iloc[0::2, -1]\n",
    "    )\n",
    "    .reset_index()\n",
    "    .drop(columns=[\"level_2\"]).rename(columns={\"radiation\": \"correlation\"})\n",
    ")\n",
    "\n",
    "correlations['correlation'].hist(bins = 200)"
   ]
  },
  {
   "cell_type": "code",
   "execution_count": null,
   "metadata": {},
   "outputs": [],
   "source": [
    "latitudes = nwp.latitude.values.tolist()\n",
    "longitudes = nwp.longitude.values.tolist()\n",
    "\n",
    "fig, ax = plt.subplots()\n",
    "\n",
    "scotland_gpd_df = gpd.read_file(\"lad.json\")\n",
    "scotland_plot = scotland_gpd_df.plot(ax=ax)\n",
    "scotland_plot.set_xlim(-8, -1.5)\n",
    "scotland_plot.set_ylim(54, 60)\n",
    "\n",
    "\n",
    "rect = Rectangle(\n",
    "    (nwp.longitude.min() - 0.05, nwp.latitude.min() - 0.05),\n",
    "    (nwp.longitude.max() - nwp.longitude.min()) + 0.1,\n",
    "    nwp.latitude.max() - nwp.latitude.min() + 0.1,\n",
    "    linewidth=1,\n",
    "    edgecolor=\"r\",\n",
    "    facecolor=\"none\",\n",
    ")\n",
    "\n",
    "scotland_plot.scatter(\n",
    "    correlations[\"longitude\"],\n",
    "    correlations[\"latitude\"],\n",
    "    c=correlations[\"correlation\"],\n",
    "    s=50,\n",
    "    cmap=\"coolwarm\",\n",
    ")\n",
    "\n",
    "\n",
    "fig.set_size_inches(10, 10)\n",
    "\n",
    "ax.set_ylim(54.5, 56.6)\n",
    "ax.set_xlim(-6, -1.8)\n",
    "\n",
    "ax.add_patch(rect)\n",
    "\n",
    "plt.show()"
   ]
  },
  {
   "cell_type": "code",
   "execution_count": null,
   "metadata": {},
   "outputs": [],
   "source": [
    "training_radiation[\"days_since_start_of_year\"] = training_radiation[\"valid_time\"].dt.dayofyear\n",
    "training_radiation[\"half_hour\"] = training_radiation[\"valid_time\"].dt.hour * 2 + training_radiation[\"valid_time\"].dt.minute / 30\n",
    "\n",
    "training_radiation[\"sin_days\"] = np.sin(\n",
    "    2 * np.pi * training_radiation[\"days_since_start_of_year\"] / 365\n",
    ")\n",
    "training_radiation[\"cos_days\"] = np.cos(\n",
    "    2 * np.pi * training_radiation[\"days_since_start_of_year\"] / 365\n",
    ")\n",
    "training_radiation[\"sin_hh\"] = np.sin(2 * np.pi * training_radiation[\"half_hour\"] / 48)\n",
    "training_radiation[\"cos_hh\"] = np.cos(2 * np.pi * training_radiation[\"half_hour\"] / 48)"
   ]
  },
  {
   "cell_type": "code",
   "execution_count": null,
   "metadata": {},
   "outputs": [],
   "source": [
    "select_location = correlations.sort_values(by = 'correlation', ascending = False).head(1).reset_index(drop = True)"
   ]
  },
  {
   "cell_type": "code",
   "execution_count": null,
   "metadata": {},
   "outputs": [],
   "source": [
    "select_latitude = select_location['latitude'][0]\n",
    "select_longitude = select_location['longitude'][0]"
   ]
  },
  {
   "cell_type": "code",
   "execution_count": null,
   "metadata": {},
   "outputs": [],
   "source": [
    "select_location_df = training_radiation[\n",
    "    (training_radiation[\"latitude\"] == select_latitude)\n",
    "    & (training_radiation[\"longitude\"] == select_longitude)\n",
    "].reset_index(drop = True)"
   ]
  },
  {
   "cell_type": "code",
   "execution_count": null,
   "metadata": {},
   "outputs": [],
   "source": [
    "from sklearn.model_selection import train_test_split\n",
    "from sklearn.linear_model import LinearRegression, Ridge, Lasso, ElasticNet, BayesianRidge, SGDRegressor, HuberRegressor\n",
    "from sklearn.svm import SVR\n",
    "from sklearn.ensemble import RandomForestRegressor, GradientBoostingRegressor, AdaBoostRegressor\n",
    "from sklearn.tree import DecisionTreeRegressor\n",
    "from sklearn.neighbors import KNeighborsRegressor\n",
    "from sklearn.neural_network import MLPRegressor\n",
    "from sklearn.metrics import mean_absolute_error\n",
    "\n",
    "selected_features = ['radiation']#, 'sin_days','cos_days','sin_hh','cos_hh']\n",
    "\n",
    "select_location_df_test = select_location_df.tail(2000)\n",
    "select_location_df_train = select_location_df.head(len(select_location_df) - 2000)\n",
    "\n",
    "X_test = select_location_df_test[selected_features]\n",
    "y_test = select_location_df_test['solar_generation_MW']\n",
    "\n",
    "X_train = select_location_df_train[selected_features]\n",
    "y_train = select_location_df_train['solar_generation_MW']\n",
    "\n",
    "# X_train, X_test, y_train, y_test = train_test_split(X, y, test_size=0.01, random_state=42)"
   ]
  },
  {
   "cell_type": "code",
   "execution_count": null,
   "metadata": {},
   "outputs": [],
   "source": [
    "models = [\n",
    "    LinearRegression(),\n",
    "    Ridge(),\n",
    "    Lasso(),\n",
    "    ElasticNet(),\n",
    "    BayesianRidge(),\n",
    "    HuberRegressor(),\n",
    "    \n",
    "    # SVR(),\n",
    "    RandomForestRegressor(),\n",
    "    \n",
    "    KNeighborsRegressor(),\n",
    "    \n",
    "    \n",
    "    AdaBoostRegressor(),\n",
    "    MLPRegressor(),\n",
    "    GradientBoostingRegressor(),\n",
    "    DecisionTreeRegressor(),\n",
    "\n",
    "\n",
    "]"
   ]
  },
  {
   "cell_type": "code",
   "execution_count": null,
   "metadata": {},
   "outputs": [],
   "source": [
    "for model in models:\n",
    "    model.fit(X_train, y_train)\n",
    "    y_pred = model.predict(X_test)\n",
    "    print(model)\n",
    "    # Clear the model\n",
    "    del model\n",
    "    print(round(mean_absolute_error(y_test, y_pred),2))\n",
    "    print()"
   ]
  },
  {
   "cell_type": "code",
   "execution_count": null,
   "metadata": {},
   "outputs": [],
   "source": [
    "select_location_df_test['y_pred'] = y_pred"
   ]
  },
  {
   "cell_type": "code",
   "execution_count": null,
   "metadata": {},
   "outputs": [],
   "source": [
    "px.line(select_location_df_test, x = 'valid_time', y = ['solar_generation_MW', 'y_pred'])"
   ]
  }
 ],
 "metadata": {
  "kernelspec": {
   "display_name": "comp23",
   "language": "python",
   "name": "python3"
  },
  "language_info": {
   "codemirror_mode": {
    "name": "ipython",
    "version": 3
   },
   "file_extension": ".py",
   "mimetype": "text/x-python",
   "name": "python",
   "nbconvert_exporter": "python",
   "pygments_lexer": "ipython3",
   "version": "3.8.0"
  }
 },
 "nbformat": 4,
 "nbformat_minor": 2
}
