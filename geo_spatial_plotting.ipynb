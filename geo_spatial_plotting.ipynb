{
 "cells": [
  {
   "cell_type": "code",
   "execution_count": null,
   "metadata": {},
   "outputs": [],
   "source": [
    "import pandas as pd\n",
    "import xarray as xr\n",
    "import numpy as np\n",
    "import geopandas as gpd\n",
    "import matplotlib.pyplot as plt\n",
    "from matplotlib.patches import Rectangle\n",
    "\n",
    "nwp = xr.load_dataset(\"data/hres_1day_south_scotland_202101_202306.nc\")\n",
    "\n",
    "latitudes = nwp.latitude.values.tolist()\n",
    "longitudes = nwp.longitude.values.tolist()\n",
    "\n",
    "fig, ax = plt.subplots()\n",
    "\n",
    "scotland_gpd_df = gpd.read_file(\"lad.json\")\n",
    "scotland_plot = scotland_gpd_df.plot(ax=ax)\n",
    "scotland_plot.set_xlim(-8, -1.5)\n",
    "scotland_plot.set_ylim(54, 60)\n",
    "\n",
    "\n",
    "rect = Rectangle(\n",
    "    (nwp.longitude.min(), nwp.latitude.min()),\n",
    "    nwp.longitude.max() - nwp.longitude.min(),\n",
    "    nwp.latitude.max() - nwp.latitude.min(),\n",
    "    linewidth=1,\n",
    "    edgecolor=\"r\",\n",
    "    facecolor=\"none\",\n",
    ")\n",
    "\n",
    "\n",
    "fig.set_size_inches(10, 10)\n",
    "ax.add_patch(rect)\n",
    "\n",
    "plt.show()"
   ]
  }
 ],
 "metadata": {
  "kernelspec": {
   "display_name": "hybrid_energy_forecasting-CFnHl3oL",
   "language": "python",
   "name": "python3"
  },
  "language_info": {
   "codemirror_mode": {
    "name": "ipython",
    "version": 3
   },
   "file_extension": ".py",
   "mimetype": "text/x-python",
   "name": "python",
   "nbconvert_exporter": "python",
   "pygments_lexer": "ipython3",
   "version": "3.8.0"
  }
 },
 "nbformat": 4,
 "nbformat_minor": 2
}
