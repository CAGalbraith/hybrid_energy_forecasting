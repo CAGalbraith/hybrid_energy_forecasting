{
 "cells": [
  {
   "cell_type": "code",
   "execution_count": 2,
   "metadata": {},
   "outputs": [],
   "source": [
    "import pandas as pd\n",
    "import xarray as xr\n",
    "import numpy as np\n",
    "\n",
    "def get_variable_from_netcfd(df, lon, lat, var):\n",
    "    \"\"\" Extract variable from netcdf file and interpolate to 30 min intervals \"\"\"\n",
    "    return (df[var].sel(longitude=lon, latitude = lat, method=\"nearest\")\n",
    "            .to_dataframe()\n",
    "            .set_index(\"valid_time\")[[var]]\n",
    "            .resample(\"1800s\")\n",
    "            .interpolate())\n",
    "\n",
    "\n",
    "nwp = xr.load_dataset(\"data/hres_1day_south_scotland_202101_202306.nc\")\n",
    "\n",
    "nwp[\"ws100\"] = pow(pow(nwp.u100,2) + pow(nwp.v100,2), 0.5)\n",
    "nwp[\"ws10\"] = pow(pow(nwp.u10,2) + pow(nwp.v10,2), 0.5)\n",
    "\n",
    "\n",
    "nwp['wa100'] = np.rad2deg(np.arctan2(nwp.v100, nwp.u100))\n",
    "nwp['wa10'] = np.rad2deg(np.arctan2(nwp.v10, nwp.u10))\n",
    "\n",
    "wf_capacity = pd.read_csv('data/Central Scotland Wind Farms.csv')\n",
    "variables = ['ws100', 'ws10', 'wa100', 'wa10']\n",
    "\n",
    "wind_data_features = pd.DataFrame()\n",
    "\n",
    "for index, farm in wf_capacity.iterrows():\n",
    "    lon, lat = farm[[\"Longitude\", \"Latitude\"]]\n",
    "    weather_list = []\n",
    "    for var in variables:\n",
    "        weather_list.append(get_variable_from_netcfd(nwp, lon, lat, var))\n",
    "    weather = pd.concat(weather_list, axis=1)\n",
    "    weather['turbine'] = farm['Name']\n",
    "    wind_data_features = pd.concat([wind_data_features, weather])"
   ]
  }
 ],
 "metadata": {
  "kernelspec": {
   "display_name": "comp23",
   "language": "python",
   "name": "python3"
  },
  "language_info": {
   "codemirror_mode": {
    "name": "ipython",
    "version": 3
   },
   "file_extension": ".py",
   "mimetype": "text/x-python",
   "name": "python",
   "nbconvert_exporter": "python",
   "pygments_lexer": "ipython3",
   "version": "3.8.0"
  }
 },
 "nbformat": 4,
 "nbformat_minor": 2
}
